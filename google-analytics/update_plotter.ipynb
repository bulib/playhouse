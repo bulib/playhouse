{
 "cells": [
  {
   "cell_type": "markdown",
   "metadata": {},
   "source": [
    "# R Scatter plots for Data Management Website Pageviews\n",
    "\n",
    "This notebook builds upon the ga-site-review Python notebook to visualize the pageviews for the Data Management website.\n"
   ]
  },
  {
   "cell_type": "code",
   "execution_count": 48,
   "metadata": {
    "collapsed": false
   },
   "outputs": [],
   "source": [
    "###################\n",
    "#\n",
    "# SET YOUR VARS \n",
    "#\n",
    "###################\n",
    "\n",
    "# set last_update to the folder of the last update\n",
    "last_update = \"2015-12-16\"\n"
   ]
  },
  {
   "cell_type": "code",
   "execution_count": 49,
   "metadata": {
    "collapsed": true
   },
   "outputs": [],
   "source": [
    "# load libraries \n",
    "library(ggplot2)\n",
    "library(scales)\n",
    "library(plyr)"
   ]
  },
  {
   "cell_type": "code",
   "execution_count": 50,
   "metadata": {
    "collapsed": false
   },
   "outputs": [
    {
     "data": {
      "text/html": [
       "<ol class=list-inline>\n",
       "\t<li>'datamanagement.csv'</li>\n",
       "\t<li>'datamanagementask-a-question.csv'</li>\n",
       "\t<li>'datamanagementbackground.csv'</li>\n",
       "\t<li>'datamanagementbackgroundcite.csv'</li>\n",
       "\t<li>'datamanagementbackgrounddata-life-cycle.csv'</li>\n",
       "\t<li>'datamanagementbackgroundimportance.csv'</li>\n",
       "\t<li>'datamanagementbackgroundrelevant-background-reading.csv'</li>\n",
       "\t<li>'datamanagementbackgroundwhatisdata.csv'</li>\n",
       "\t<li>'datamanagementcalendar.csv'</li>\n",
       "\t<li>'datamanagementoutline.csv'</li>\n",
       "\t<li>'datamanagementoutlinebuilding-a-data-curation-profile.csv'</li>\n",
       "\t<li>'datamanagementoutlineelements.csv'</li>\n",
       "\t<li>'datamanagementoutlineelementsaccess.csv'</li>\n",
       "\t<li>'datamanagementoutlineelementsdata-repositories.csv'</li>\n",
       "\t<li>'datamanagementoutlineelementsmetadata.csv'</li>\n",
       "\t<li>'datamanagementoutlineelementsorganize.csv'</li>\n",
       "\t<li>'datamanagementoutlineelementsstorage.csv'</li>\n",
       "\t<li>'datamanagementoutlineelementstracking-changes.csv'</li>\n",
       "\t<li>'datamanagementoutlinefunding-agencies.csv'</li>\n",
       "\t<li>'datamanagementoutlineweb-resources-and-tutorials.csv'</li>\n",
       "\t<li>'datamanagementresearch-data-management.csv'</li>\n",
       "\t<li>'datamanagementresources.csv'</li>\n",
       "\t<li>'datamanagementresourcesarchiving-services.csv'</li>\n",
       "\t<li>'datamanagementresourcesdiscipline-specific-data-management-articles.csv'</li>\n",
       "\t<li>'datamanagementresourcesissp.csv'</li>\n",
       "\t<li>'datamanagementresourcesist-services.csv'</li>\n",
       "\t<li>'datamanagementresourceslibrary-services.csv'</li>\n",
       "\t<li>'datamanagementresourcestemplates.csv'</li>\n",
       "\t<li>'site.csv'</li>\n",
       "</ol>\n"
      ],
      "text/latex": [
       "\\begin{enumerate*}\n",
       "\\item 'datamanagement.csv'\n",
       "\\item 'datamanagementask-a-question.csv'\n",
       "\\item 'datamanagementbackground.csv'\n",
       "\\item 'datamanagementbackgroundcite.csv'\n",
       "\\item 'datamanagementbackgrounddata-life-cycle.csv'\n",
       "\\item 'datamanagementbackgroundimportance.csv'\n",
       "\\item 'datamanagementbackgroundrelevant-background-reading.csv'\n",
       "\\item 'datamanagementbackgroundwhatisdata.csv'\n",
       "\\item 'datamanagementcalendar.csv'\n",
       "\\item 'datamanagementoutline.csv'\n",
       "\\item 'datamanagementoutlinebuilding-a-data-curation-profile.csv'\n",
       "\\item 'datamanagementoutlineelements.csv'\n",
       "\\item 'datamanagementoutlineelementsaccess.csv'\n",
       "\\item 'datamanagementoutlineelementsdata-repositories.csv'\n",
       "\\item 'datamanagementoutlineelementsmetadata.csv'\n",
       "\\item 'datamanagementoutlineelementsorganize.csv'\n",
       "\\item 'datamanagementoutlineelementsstorage.csv'\n",
       "\\item 'datamanagementoutlineelementstracking-changes.csv'\n",
       "\\item 'datamanagementoutlinefunding-agencies.csv'\n",
       "\\item 'datamanagementoutlineweb-resources-and-tutorials.csv'\n",
       "\\item 'datamanagementresearch-data-management.csv'\n",
       "\\item 'datamanagementresources.csv'\n",
       "\\item 'datamanagementresourcesarchiving-services.csv'\n",
       "\\item 'datamanagementresourcesdiscipline-specific-data-management-articles.csv'\n",
       "\\item 'datamanagementresourcesissp.csv'\n",
       "\\item 'datamanagementresourcesist-services.csv'\n",
       "\\item 'datamanagementresourceslibrary-services.csv'\n",
       "\\item 'datamanagementresourcestemplates.csv'\n",
       "\\item 'site.csv'\n",
       "\\end{enumerate*}\n"
      ],
      "text/markdown": [
       "1. 'datamanagement.csv'\n",
       "2. 'datamanagementask-a-question.csv'\n",
       "3. 'datamanagementbackground.csv'\n",
       "4. 'datamanagementbackgroundcite.csv'\n",
       "5. 'datamanagementbackgrounddata-life-cycle.csv'\n",
       "6. 'datamanagementbackgroundimportance.csv'\n",
       "7. 'datamanagementbackgroundrelevant-background-reading.csv'\n",
       "8. 'datamanagementbackgroundwhatisdata.csv'\n",
       "9. 'datamanagementcalendar.csv'\n",
       "10. 'datamanagementoutline.csv'\n",
       "11. 'datamanagementoutlinebuilding-a-data-curation-profile.csv'\n",
       "12. 'datamanagementoutlineelements.csv'\n",
       "13. 'datamanagementoutlineelementsaccess.csv'\n",
       "14. 'datamanagementoutlineelementsdata-repositories.csv'\n",
       "15. 'datamanagementoutlineelementsmetadata.csv'\n",
       "16. 'datamanagementoutlineelementsorganize.csv'\n",
       "17. 'datamanagementoutlineelementsstorage.csv'\n",
       "18. 'datamanagementoutlineelementstracking-changes.csv'\n",
       "19. 'datamanagementoutlinefunding-agencies.csv'\n",
       "20. 'datamanagementoutlineweb-resources-and-tutorials.csv'\n",
       "21. 'datamanagementresearch-data-management.csv'\n",
       "22. 'datamanagementresources.csv'\n",
       "23. 'datamanagementresourcesarchiving-services.csv'\n",
       "24. 'datamanagementresourcesdiscipline-specific-data-management-articles.csv'\n",
       "25. 'datamanagementresourcesissp.csv'\n",
       "26. 'datamanagementresourcesist-services.csv'\n",
       "27. 'datamanagementresourceslibrary-services.csv'\n",
       "28. 'datamanagementresourcestemplates.csv'\n",
       "29. 'site.csv'\n",
       "\n",
       "\n"
      ],
      "text/plain": [
       " [1] \"datamanagement.csv\"                                                     \n",
       " [2] \"datamanagementask-a-question.csv\"                                       \n",
       " [3] \"datamanagementbackground.csv\"                                           \n",
       " [4] \"datamanagementbackgroundcite.csv\"                                       \n",
       " [5] \"datamanagementbackgrounddata-life-cycle.csv\"                            \n",
       " [6] \"datamanagementbackgroundimportance.csv\"                                 \n",
       " [7] \"datamanagementbackgroundrelevant-background-reading.csv\"                \n",
       " [8] \"datamanagementbackgroundwhatisdata.csv\"                                 \n",
       " [9] \"datamanagementcalendar.csv\"                                             \n",
       "[10] \"datamanagementoutline.csv\"                                              \n",
       "[11] \"datamanagementoutlinebuilding-a-data-curation-profile.csv\"              \n",
       "[12] \"datamanagementoutlineelements.csv\"                                      \n",
       "[13] \"datamanagementoutlineelementsaccess.csv\"                                \n",
       "[14] \"datamanagementoutlineelementsdata-repositories.csv\"                     \n",
       "[15] \"datamanagementoutlineelementsmetadata.csv\"                              \n",
       "[16] \"datamanagementoutlineelementsorganize.csv\"                              \n",
       "[17] \"datamanagementoutlineelementsstorage.csv\"                               \n",
       "[18] \"datamanagementoutlineelementstracking-changes.csv\"                      \n",
       "[19] \"datamanagementoutlinefunding-agencies.csv\"                              \n",
       "[20] \"datamanagementoutlineweb-resources-and-tutorials.csv\"                   \n",
       "[21] \"datamanagementresearch-data-management.csv\"                             \n",
       "[22] \"datamanagementresources.csv\"                                            \n",
       "[23] \"datamanagementresourcesarchiving-services.csv\"                          \n",
       "[24] \"datamanagementresourcesdiscipline-specific-data-management-articles.csv\"\n",
       "[25] \"datamanagementresourcesissp.csv\"                                        \n",
       "[26] \"datamanagementresourcesist-services.csv\"                                \n",
       "[27] \"datamanagementresourceslibrary-services.csv\"                            \n",
       "[28] \"datamanagementresourcestemplates.csv\"                                   \n",
       "[29] \"site.csv\"                                                               "
      ]
     },
     "execution_count": 50,
     "metadata": {},
     "output_type": "execute_result"
    }
   ],
   "source": [
    "files <- list.files(paste(last_update, \"/\", sep= \"\"))\n",
    "files"
   ]
  },
  {
   "cell_type": "code",
   "execution_count": 51,
   "metadata": {
    "collapsed": false,
    "scrolled": true
   },
   "outputs": [
    {
     "name": "stdout",
     "output_type": "stream",
     "text": [
      "[1] \"2015-12-16/datamanagement.csv\"\n"
     ]
    },
    {
     "name": "stderr",
     "output_type": "stream",
     "text": [
      "geom_smooth: method=\"auto\" and size of largest group is >=1000, so using gam with formula: y ~ s(x, bs = \"cs\"). Use 'method = x' to change the smoothing method.\n"
     ]
    },
    {
     "name": "stdout",
     "output_type": "stream",
     "text": [
      "[1] \"2015-12-16/datamanagementask-a-question.csv\"\n"
     ]
    },
    {
     "name": "stderr",
     "output_type": "stream",
     "text": [
      "geom_smooth: method=\"auto\" and size of largest group is >=1000, so using gam with formula: y ~ s(x, bs = \"cs\"). Use 'method = x' to change the smoothing method.\n"
     ]
    },
    {
     "name": "stdout",
     "output_type": "stream",
     "text": [
      "[1] \"2015-12-16/datamanagementbackground.csv\"\n"
     ]
    },
    {
     "name": "stderr",
     "output_type": "stream",
     "text": [
      "geom_smooth: method=\"auto\" and size of largest group is >=1000, so using gam with formula: y ~ s(x, bs = \"cs\"). Use 'method = x' to change the smoothing method.\n"
     ]
    },
    {
     "name": "stdout",
     "output_type": "stream",
     "text": [
      "[1] \"2015-12-16/datamanagementbackgroundcite.csv\"\n"
     ]
    },
    {
     "name": "stderr",
     "output_type": "stream",
     "text": [
      "geom_smooth: method=\"auto\" and size of largest group is >=1000, so using gam with formula: y ~ s(x, bs = \"cs\"). Use 'method = x' to change the smoothing method.\n"
     ]
    },
    {
     "name": "stdout",
     "output_type": "stream",
     "text": [
      "[1] \"2015-12-16/datamanagementbackgrounddata-life-cycle.csv\"\n"
     ]
    },
    {
     "name": "stderr",
     "output_type": "stream",
     "text": [
      "geom_smooth: method=\"auto\" and size of largest group is >=1000, so using gam with formula: y ~ s(x, bs = \"cs\"). Use 'method = x' to change the smoothing method.\n"
     ]
    },
    {
     "name": "stdout",
     "output_type": "stream",
     "text": [
      "[1] \"2015-12-16/datamanagementbackgroundimportance.csv\"\n"
     ]
    },
    {
     "name": "stderr",
     "output_type": "stream",
     "text": [
      "geom_smooth: method=\"auto\" and size of largest group is >=1000, so using gam with formula: y ~ s(x, bs = \"cs\"). Use 'method = x' to change the smoothing method.\n"
     ]
    },
    {
     "name": "stdout",
     "output_type": "stream",
     "text": [
      "[1] \"2015-12-16/datamanagementbackgroundrelevant-background-reading.csv\"\n"
     ]
    },
    {
     "name": "stderr",
     "output_type": "stream",
     "text": [
      "geom_smooth: method=\"auto\" and size of largest group is >=1000, so using gam with formula: y ~ s(x, bs = \"cs\"). Use 'method = x' to change the smoothing method.\n",
      "Warning message:\n",
      ": Removed 7 rows containing missing values (geom_path)."
     ]
    },
    {
     "name": "stdout",
     "output_type": "stream",
     "text": [
      "[1] \"2015-12-16/datamanagementbackgroundwhatisdata.csv\"\n"
     ]
    },
    {
     "name": "stderr",
     "output_type": "stream",
     "text": [
      "geom_smooth: method=\"auto\" and size of largest group is >=1000, so using gam with formula: y ~ s(x, bs = \"cs\"). Use 'method = x' to change the smoothing method.\n",
      "Warning message:\n",
      ": Removed 2 rows containing missing values (stat_smooth).Warning message:\n",
      ": Removed 2 rows containing missing values (geom_point)."
     ]
    },
    {
     "name": "stdout",
     "output_type": "stream",
     "text": [
      "[1] \"2015-12-16/datamanagementcalendar.csv\"\n"
     ]
    },
    {
     "name": "stderr",
     "output_type": "stream",
     "text": [
      "geom_smooth: method=\"auto\" and size of largest group is >=1000, so using gam with formula: y ~ s(x, bs = \"cs\"). Use 'method = x' to change the smoothing method.\n",
      "Warning message:\n",
      ": Removed 9 rows containing missing values (geom_path)."
     ]
    },
    {
     "name": "stdout",
     "output_type": "stream",
     "text": [
      "[1] \"2015-12-16/datamanagementoutline.csv\"\n"
     ]
    },
    {
     "name": "stderr",
     "output_type": "stream",
     "text": [
      "geom_smooth: method=\"auto\" and size of largest group is >=1000, so using gam with formula: y ~ s(x, bs = \"cs\"). Use 'method = x' to change the smoothing method.\n",
      "Warning message:\n",
      ": Removed 2 rows containing missing values (geom_path)."
     ]
    },
    {
     "name": "stdout",
     "output_type": "stream",
     "text": [
      "[1] \"2015-12-16/datamanagementoutlinebuilding-a-data-curation-profile.csv\"\n"
     ]
    },
    {
     "name": "stderr",
     "output_type": "stream",
     "text": [
      "geom_smooth: method=\"auto\" and size of largest group is >=1000, so using gam with formula: y ~ s(x, bs = \"cs\"). Use 'method = x' to change the smoothing method.\n",
      "Warning message:\n",
      ": Removed 2 rows containing missing values (geom_path)."
     ]
    },
    {
     "name": "stdout",
     "output_type": "stream",
     "text": [
      "[1] \"2015-12-16/datamanagementoutlineelements.csv\"\n"
     ]
    },
    {
     "name": "stderr",
     "output_type": "stream",
     "text": [
      "geom_smooth: method=\"auto\" and size of largest group is >=1000, so using gam with formula: y ~ s(x, bs = \"cs\"). Use 'method = x' to change the smoothing method.\n"
     ]
    },
    {
     "name": "stdout",
     "output_type": "stream",
     "text": [
      "[1] \"2015-12-16/datamanagementoutlineelementsaccess.csv\"\n"
     ]
    },
    {
     "name": "stderr",
     "output_type": "stream",
     "text": [
      "geom_smooth: method=\"auto\" and size of largest group is >=1000, so using gam with formula: y ~ s(x, bs = \"cs\"). Use 'method = x' to change the smoothing method.\n",
      "Warning message:\n",
      ": Removed 1 rows containing missing values (geom_path)."
     ]
    },
    {
     "name": "stdout",
     "output_type": "stream",
     "text": [
      "[1] \"2015-12-16/datamanagementoutlineelementsdata-repositories.csv\"\n"
     ]
    },
    {
     "name": "stderr",
     "output_type": "stream",
     "text": [
      "geom_smooth: method=\"auto\" and size of largest group is >=1000, so using gam with formula: y ~ s(x, bs = \"cs\"). Use 'method = x' to change the smoothing method.\n"
     ]
    },
    {
     "name": "stdout",
     "output_type": "stream",
     "text": [
      "[1] \"2015-12-16/datamanagementoutlineelementsmetadata.csv\"\n"
     ]
    },
    {
     "name": "stderr",
     "output_type": "stream",
     "text": [
      "geom_smooth: method=\"auto\" and size of largest group is >=1000, so using gam with formula: y ~ s(x, bs = \"cs\"). Use 'method = x' to change the smoothing method.\n"
     ]
    },
    {
     "name": "stdout",
     "output_type": "stream",
     "text": [
      "[1] \"2015-12-16/datamanagementoutlineelementsorganize.csv\"\n"
     ]
    },
    {
     "name": "stderr",
     "output_type": "stream",
     "text": [
      "geom_smooth: method=\"auto\" and size of largest group is >=1000, so using gam with formula: y ~ s(x, bs = \"cs\"). Use 'method = x' to change the smoothing method.\n",
      "Warning message:\n",
      ": Removed 1 rows containing missing values (geom_path)."
     ]
    },
    {
     "name": "stdout",
     "output_type": "stream",
     "text": [
      "[1] \"2015-12-16/datamanagementoutlineelementsstorage.csv\"\n"
     ]
    },
    {
     "name": "stderr",
     "output_type": "stream",
     "text": [
      "geom_smooth: method=\"auto\" and size of largest group is >=1000, so using gam with formula: y ~ s(x, bs = \"cs\"). Use 'method = x' to change the smoothing method.\n",
      "Warning message:\n",
      ": Removed 2 rows containing missing values (geom_path)."
     ]
    },
    {
     "name": "stdout",
     "output_type": "stream",
     "text": [
      "[1] \"2015-12-16/datamanagementoutlineelementstracking-changes.csv\"\n"
     ]
    },
    {
     "name": "stderr",
     "output_type": "stream",
     "text": [
      "geom_smooth: method=\"auto\" and size of largest group is >=1000, so using gam with formula: y ~ s(x, bs = \"cs\"). Use 'method = x' to change the smoothing method.\n"
     ]
    },
    {
     "name": "stdout",
     "output_type": "stream",
     "text": [
      "[1] \"2015-12-16/datamanagementoutlinefunding-agencies.csv\"\n"
     ]
    },
    {
     "name": "stderr",
     "output_type": "stream",
     "text": [
      "geom_smooth: method=\"auto\" and size of largest group is >=1000, so using gam with formula: y ~ s(x, bs = \"cs\"). Use 'method = x' to change the smoothing method.\n",
      "Warning message:\n",
      ": Removed 2 rows containing missing values (geom_path)."
     ]
    },
    {
     "name": "stdout",
     "output_type": "stream",
     "text": [
      "[1] \"2015-12-16/datamanagementoutlineweb-resources-and-tutorials.csv\"\n"
     ]
    },
    {
     "name": "stderr",
     "output_type": "stream",
     "text": [
      "geom_smooth: method=\"auto\" and size of largest group is >=1000, so using gam with formula: y ~ s(x, bs = \"cs\"). Use 'method = x' to change the smoothing method.\n",
      "Warning message:\n",
      ": Removed 4 rows containing missing values (geom_path)."
     ]
    },
    {
     "name": "stdout",
     "output_type": "stream",
     "text": [
      "[1] \"2015-12-16/datamanagementresearch-data-management.csv\"\n"
     ]
    },
    {
     "name": "stderr",
     "output_type": "stream",
     "text": [
      "geom_smooth: method=\"auto\" and size of largest group is >=1000, so using gam with formula: y ~ s(x, bs = \"cs\"). Use 'method = x' to change the smoothing method.\n",
      "Warning message:\n",
      ": Removed 5 rows containing missing values (geom_path)."
     ]
    },
    {
     "name": "stdout",
     "output_type": "stream",
     "text": [
      "[1] \"2015-12-16/datamanagementresources.csv\"\n"
     ]
    },
    {
     "name": "stderr",
     "output_type": "stream",
     "text": [
      "geom_smooth: method=\"auto\" and size of largest group is >=1000, so using gam with formula: y ~ s(x, bs = \"cs\"). Use 'method = x' to change the smoothing method.\n"
     ]
    },
    {
     "name": "stdout",
     "output_type": "stream",
     "text": [
      "[1] \"2015-12-16/datamanagementresourcesarchiving-services.csv\"\n"
     ]
    },
    {
     "name": "stderr",
     "output_type": "stream",
     "text": [
      "geom_smooth: method=\"auto\" and size of largest group is >=1000, so using gam with formula: y ~ s(x, bs = \"cs\"). Use 'method = x' to change the smoothing method.\n"
     ]
    },
    {
     "name": "stdout",
     "output_type": "stream",
     "text": [
      "[1] \"2015-12-16/datamanagementresourcesdiscipline-specific-data-management-articles.csv\"\n"
     ]
    },
    {
     "name": "stderr",
     "output_type": "stream",
     "text": [
      "geom_smooth: method=\"auto\" and size of largest group is >=1000, so using gam with formula: y ~ s(x, bs = \"cs\"). Use 'method = x' to change the smoothing method.\n",
      "Warning message:\n",
      ": Removed 649 rows containing missing values (stat_smooth).Warning message:\n",
      ": Removed 649 rows containing missing values (geom_point)."
     ]
    },
    {
     "name": "stdout",
     "output_type": "stream",
     "text": [
      "[1] \"2015-12-16/datamanagementresourcesissp.csv\"\n"
     ]
    },
    {
     "name": "stderr",
     "output_type": "stream",
     "text": [
      "geom_smooth: method=\"auto\" and size of largest group is >=1000, so using gam with formula: y ~ s(x, bs = \"cs\"). Use 'method = x' to change the smoothing method.\n"
     ]
    },
    {
     "name": "stdout",
     "output_type": "stream",
     "text": [
      "[1] \"2015-12-16/datamanagementresourcesist-services.csv\"\n"
     ]
    },
    {
     "name": "stderr",
     "output_type": "stream",
     "text": [
      "geom_smooth: method=\"auto\" and size of largest group is >=1000, so using gam with formula: y ~ s(x, bs = \"cs\"). Use 'method = x' to change the smoothing method.\n"
     ]
    },
    {
     "name": "stdout",
     "output_type": "stream",
     "text": [
      "[1] \"2015-12-16/datamanagementresourceslibrary-services.csv\"\n"
     ]
    },
    {
     "name": "stderr",
     "output_type": "stream",
     "text": [
      "geom_smooth: method=\"auto\" and size of largest group is >=1000, so using gam with formula: y ~ s(x, bs = \"cs\"). Use 'method = x' to change the smoothing method.\n"
     ]
    },
    {
     "name": "stdout",
     "output_type": "stream",
     "text": [
      "[1] \"2015-12-16/datamanagementresourcestemplates.csv\"\n"
     ]
    },
    {
     "name": "stderr",
     "output_type": "stream",
     "text": [
      "geom_smooth: method=\"auto\" and size of largest group is >=1000, so using gam with formula: y ~ s(x, bs = \"cs\"). Use 'method = x' to change the smoothing method.\n"
     ]
    },
    {
     "name": "stdout",
     "output_type": "stream",
     "text": [
      "[1] \"2015-12-16/site.csv\"\n"
     ]
    },
    {
     "name": "stderr",
     "output_type": "stream",
     "text": [
      "geom_smooth: method=\"auto\" and size of largest group is >=1000, so using gam with formula: y ~ s(x, bs = \"cs\"). Use 'method = x' to change the smoothing method.\n",
      "Warning message:\n",
      ": Removed 415 rows containing missing values (stat_smooth).Warning message:\n",
      ": Removed 415 rows containing missing values (geom_point)."
     ]
    }
   ],
   "source": [
    "# folder location for csv files from ga-site-review python notebook\n",
    "\n",
    "#loop through our pages var\n",
    "for(f in files)\n",
    "{\n",
    "    path <- paste(last_update, \"/\", f, sep=\"\") #file path\n",
    "    print(path) # print path to track progress\n",
    "    stats <- read.csv(file=path, head=TRUE, sep=\",\") # load file into stats dataframe \n",
    "    stats$date <- as.Date(stats$date) # make sure stats$date is formatted as a date\n",
    "    # build our ggplot \n",
    "    plt = ggplot(data=stats,  aes(x=date, y=pageviews, group = 1)) +\n",
    "        geom_point(color=\"red\", alpha = I(0.7)) + \n",
    "        stat_smooth(color='blue', size= 0.5, span=0.075, method=\"auto\") + \n",
    "        scale_x_date(\"Date\", breaks = date_breaks(\"3 months\"), labels = date_format(\"%b. %y\")) +\n",
    "        scale_y_continuous(\"Pageviews\", expand=c(0,0), limits = c(0, 100), breaks=c(10,20,30,40,50,60,70,80,90,100)) +\n",
    "        theme_bw() +\n",
    "        theme(axis.text.x = element_text(angle = 45, hjust = 1))\n",
    "    #save our plot in the images folder \n",
    "    \n",
    "    ggsave(plt, file=paste(gsub(\".csv\", \"\", path), \".pdf\", sep= \"\"), width = 7, height = 5)\n",
    "}"
   ]
  }
 ],
 "metadata": {
  "kernelspec": {
   "display_name": "R",
   "language": "R",
   "name": "ir"
  },
  "language_info": {
   "codemirror_mode": "r",
   "file_extension": ".r",
   "mimetype": "text/x-r-source",
   "name": "R",
   "pygments_lexer": "r",
   "version": "3.2.2"
  }
 },
 "nbformat": 4,
 "nbformat_minor": 0
}
