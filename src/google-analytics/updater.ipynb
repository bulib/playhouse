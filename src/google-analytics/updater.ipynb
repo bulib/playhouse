{
 "cells": [
  {
   "cell_type": "code",
   "execution_count": 29,
   "metadata": {
    "collapsed": true
   },
   "outputs": [],
   "source": [
    "#\n",
    "# This notebook updates our Google Analytics and saves the data in a new folder\n",
    "#\n",
    "######"
   ]
  },
  {
   "cell_type": "code",
   "execution_count": 101,
   "metadata": {
    "collapsed": false
   },
   "outputs": [],
   "source": [
    "#Import libraries \n",
    "\n",
    "import googleanalytics as ga\n",
    "import pandas as pd\n",
    "import matplotlib.pyplot as plt\n",
    "import os\n",
    "import datetime as dt  "
   ]
  },
  {
   "cell_type": "code",
   "execution_count": 102,
   "metadata": {
    "collapsed": false
   },
   "outputs": [],
   "source": [
    "#### SET YOUR VARS #### \n",
    "\n",
    "\n",
    "###########################\n",
    "\n",
    "# set last_update to the folder of the last update\n",
    "last_update = \"2015-11-30\"\n",
    "\n",
    "\n",
    "###########################\n",
    "\n",
    "\n",
    "# set to_date - \n",
    "#  note: don't use today because Google Analytics \n",
    "#  will only have data until yesterday\n",
    "to_date = dt.datetime.strftime(dt.datetime.now()-dt.timedelta(1),'%Y-%m-%d')"
   ]
  },
  {
   "cell_type": "code",
   "execution_count": 103,
   "metadata": {
    "collapsed": true
   },
   "outputs": [],
   "source": [
    "# make a directory for today's update\n",
    "if os.path.isdir(to_date) is False:\n",
    "    os.mkdir(to_date)"
   ]
  },
  {
   "cell_type": "code",
   "execution_count": 104,
   "metadata": {
    "collapsed": true
   },
   "outputs": [],
   "source": [
    "# setup google analytics \n",
    "accounts = ga.authenticate(identity='Google Analtics API', interactive=True, save=True)\n",
    "profile = accounts[0].webproperties[0].profile"
   ]
  },
  {
   "cell_type": "code",
   "execution_count": 84,
   "metadata": {
    "collapsed": true
   },
   "outputs": [],
   "source": [
    "# our pages \n",
    "pages = [\"/datamanagement/\", \n",
    "         \"/datamanagement/background/\", \n",
    "         \"/datamanagement/background/whatisdata/\", \n",
    "         \"/datamanagement/background/importance/\",\n",
    "         \"/datamanagement/background/data-life-cycle/\",\n",
    "         \"/datamanagement/background/cite/\",\n",
    "         \"/datamanagement/background/relevant-background-reading/\",\n",
    "         \"/datamanagement/outline/\",\n",
    "         \"/datamanagement/outline/funding-agencies/\",\n",
    "         \"/datamanagement/outline/elements/\",\n",
    "         \"/datamanagement/outline/elements/organize/\",\n",
    "         \"/datamanagement/outline/elements/tracking-changes/\",\n",
    "         \"/datamanagement/outline/elements/storage/\",\n",
    "         \"/datamanagement/outline/elements/metadata/\",\n",
    "         \"/datamanagement/outline/elements/access/\",\n",
    "         \"/datamanagement/outline/elements/data-repositories/\",\n",
    "         \"/datamanagement/outline/building-a-data-curation-profile/\",\n",
    "         \"/datamanagement/outline/web-resources-and-tutorials/\",\n",
    "         \"/datamanagement/resources/\",\n",
    "         \"/datamanagement/resources/ist-services/\",\n",
    "         \"/datamanagement/resources/library-services/\",\n",
    "         \"/datamanagement/resources/archiving-services/\",\n",
    "         \"/datamanagement/resources/templates/\",\n",
    "         \"/datamanagement/resources/issp/\",\n",
    "         \"/datamanagement/resources/discipline-specific-data-management-articles/\",\n",
    "         \"/datamanagement/calendar/\",\n",
    "         \"/datamanagement/ask-a-question/\",\n",
    "         \"/datamanagement/research-data-management/\",\n",
    "        ]"
   ]
  },
  {
   "cell_type": "code",
   "execution_count": 85,
   "metadata": {
    "collapsed": false
   },
   "outputs": [
    {
     "name": "stdout",
     "output_type": "stream",
     "text": [
      "['datamanagement.csv', 'datamanagementask-a-question.csv', 'datamanagementbackground.csv', 'datamanagementbackgroundcite.csv', 'datamanagementbackgrounddata-life-cycle.csv', 'datamanagementbackgroundimportance.csv', 'datamanagementbackgroundrelevant-background-reading.csv', 'datamanagementbackgroundwhatisdata.csv', 'datamanagementcalendar.csv', 'datamanagementoutline.csv', 'datamanagementoutlinebuilding-a-data-curation-profile.csv', 'datamanagementoutlineelements.csv', 'datamanagementoutlineelementsaccess.csv', 'datamanagementoutlineelementsdata-repositories.csv', 'datamanagementoutlineelementsmetadata.csv', 'datamanagementoutlineelementsorganize.csv', 'datamanagementoutlineelementsstorage.csv', 'datamanagementoutlineelementstracking-changes.csv', 'datamanagementoutlinefunding-agencies.csv', 'datamanagementoutlineweb-resources-and-tutorials.csv', 'datamanagementresearch-data-management.csv', 'datamanagementresources.csv', 'datamanagementresourcesarchiving-services.csv', 'datamanagementresourcesdiscipline-specific-data-management-articles.csv', 'datamanagementresourcesissp.csv', 'datamanagementresourcesist-services.csv', 'datamanagementresourceslibrary-services.csv', 'datamanagementresourcesrelevant-background-reading.csv', 'datamanagementresourcestemplates.csv']\n"
     ]
    }
   ],
   "source": [
    "files = os.listdir(last_update)\n",
    "print(files)"
   ]
  },
  {
   "cell_type": "code",
   "execution_count": 86,
   "metadata": {
    "collapsed": false,
    "scrolled": true
   },
   "outputs": [
    {
     "name": "stdout",
     "output_type": "stream",
     "text": [
      "/datamanagement/\n",
      "datamanagement.csv\n",
      "/datamanagement/background/\n",
      "datamanagementbackground.csv\n",
      "/datamanagement/background/whatisdata/\n",
      "datamanagementbackgroundwhatisdata.csv\n",
      "/datamanagement/background/importance/\n",
      "datamanagementbackgroundimportance.csv\n",
      "/datamanagement/background/data-life-cycle/\n",
      "datamanagementbackgrounddata-life-cycle.csv\n",
      "/datamanagement/background/cite/\n",
      "datamanagementbackgroundcite.csv\n",
      "/datamanagement/background/relevant-background-reading/\n",
      "datamanagementbackgroundrelevant-background-reading.csv\n",
      "/datamanagement/outline/\n",
      "datamanagementoutline.csv\n",
      "/datamanagement/outline/funding-agencies/\n",
      "datamanagementoutlinefunding-agencies.csv\n",
      "/datamanagement/outline/elements/\n",
      "datamanagementoutlineelements.csv\n",
      "/datamanagement/outline/elements/organize/\n",
      "datamanagementoutlineelementsorganize.csv\n",
      "/datamanagement/outline/elements/tracking-changes/\n",
      "datamanagementoutlineelementstracking-changes.csv\n",
      "/datamanagement/outline/elements/storage/\n",
      "datamanagementoutlineelementsstorage.csv\n",
      "/datamanagement/outline/elements/metadata/\n",
      "datamanagementoutlineelementsmetadata.csv\n",
      "/datamanagement/outline/elements/access/\n",
      "datamanagementoutlineelementsaccess.csv\n",
      "/datamanagement/outline/elements/data-repositories/\n",
      "datamanagementoutlineelementsdata-repositories.csv\n",
      "/datamanagement/outline/building-a-data-curation-profile/\n",
      "datamanagementoutlinebuilding-a-data-curation-profile.csv\n",
      "/datamanagement/outline/web-resources-and-tutorials/\n",
      "datamanagementoutlineweb-resources-and-tutorials.csv\n",
      "/datamanagement/resources/\n",
      "datamanagementresources.csv\n",
      "/datamanagement/resources/ist-services/\n",
      "datamanagementresourcesist-services.csv\n",
      "/datamanagement/resources/library-services/\n",
      "datamanagementresourceslibrary-services.csv\n",
      "/datamanagement/resources/archiving-services/\n",
      "datamanagementresourcesarchiving-services.csv\n",
      "/datamanagement/resources/templates/\n",
      "datamanagementresourcestemplates.csv\n",
      "/datamanagement/resources/issp/\n",
      "datamanagementresourcesissp.csv\n",
      "/datamanagement/resources/discipline-specific-data-management-articles/\n",
      "datamanagementresourcesdiscipline-specific-data-management-articles.csv\n",
      "/datamanagement/calendar/\n",
      "datamanagementcalendar.csv\n",
      "/datamanagement/ask-a-question/\n",
      "datamanagementask-a-question.csv\n",
      "/datamanagement/research-data-management/\n",
      "datamanagementresearch-data-management.csv\n"
     ]
    }
   ],
   "source": [
    "for p in pages:\n",
    "    print(p)\n",
    "    print(p.replace(\"/\", \"\") + \".csv\")"
   ]
  },
  {
   "cell_type": "code",
   "execution_count": 96,
   "metadata": {
    "collapsed": false,
    "scrolled": true
   },
   "outputs": [
    {
     "name": "stdout",
     "output_type": "stream",
     "text": [
      "2015-12-16/datamanagement.csv\n",
      "2015-12-16/datamanagementbackground.csv\n",
      "2015-12-16/datamanagementbackgroundwhatisdata.csv\n",
      "2015-12-16/datamanagementbackgroundimportance.csv\n",
      "2015-12-16/datamanagementbackgrounddata-life-cycle.csv\n",
      "2015-12-16/datamanagementbackgroundcite.csv\n",
      "2015-12-16/datamanagementbackgroundrelevant-background-reading.csv\n",
      "2015-12-16/datamanagementoutline.csv\n",
      "2015-12-16/datamanagementoutlinefunding-agencies.csv\n",
      "2015-12-16/datamanagementoutlineelements.csv\n",
      "2015-12-16/datamanagementoutlineelementsorganize.csv\n",
      "2015-12-16/datamanagementoutlineelementstracking-changes.csv\n",
      "2015-12-16/datamanagementoutlineelementsstorage.csv\n",
      "2015-12-16/datamanagementoutlineelementsmetadata.csv\n",
      "2015-12-16/datamanagementoutlineelementsaccess.csv\n",
      "2015-12-16/datamanagementoutlineelementsdata-repositories.csv\n",
      "2015-12-16/datamanagementoutlinebuilding-a-data-curation-profile.csv\n",
      "2015-12-16/datamanagementoutlineweb-resources-and-tutorials.csv\n",
      "2015-12-16/datamanagementresources.csv\n",
      "2015-12-16/datamanagementresourcesist-services.csv\n",
      "2015-12-16/datamanagementresourceslibrary-services.csv\n",
      "2015-12-16/datamanagementresourcesarchiving-services.csv\n",
      "2015-12-16/datamanagementresourcestemplates.csv\n",
      "2015-12-16/datamanagementresourcesissp.csv\n",
      "2015-12-16/datamanagementresourcesdiscipline-specific-data-management-articles.csv\n",
      "2015-12-16/datamanagementcalendar.csv\n",
      "2015-12-16/datamanagementask-a-question.csv\n",
      "2015-12-16/datamanagementresearch-data-management.csv\n"
     ]
    }
   ],
   "source": [
    "#\n",
    "# Update individual page data \n",
    "#\n",
    "\n",
    "# create dataframes from last update\n",
    "for p in pages:\n",
    "    file_check = p.replace(\"/\", \"\") + \".csv\"\n",
    "    #check to make sure file is in list of files \n",
    "    if file_check in files:\n",
    "        # create file path\n",
    "        last_path = last_update + \"/\" + file_check\n",
    "        past_df = pd.DataFrame.from_csv(last_path)\n",
    "        new_data = profile.core.query.filter(pagepath__eq=p).metrics(\"ga:pageviews\").daily(last_update, to_date).as_dataframe()  \n",
    "        new_df = past_df.append(new_data)\n",
    "        new_path = to_date + \"/\" + p.replace(\"/\", \"\") + \".csv\"  \n",
    "        print(new_path)\n",
    "        new_df.to_csv(new_path)\n",
    "    "
   ]
  },
  {
   "cell_type": "code",
   "execution_count": 115,
   "metadata": {
    "collapsed": false
   },
   "outputs": [],
   "source": [
    "#\n",
    "# Site data \n",
    "#\n",
    "\n",
    "site_file = \"site.csv\"\n",
    "url = \"/datamanagement/\"\n",
    "last_site = last_update + \"/\" + site_file\n",
    "past_site = pd.DataFrame.from_csv(last_site)\n",
    "new_site = profile.core.query.filter(pagepath__contains=url).metrics(\"ga:pageviews\").daily(last_update, to_date).as_dataframe()\n",
    "updated_site = past_site.append(new_site)\n",
    "new_site_path = to_date + \"/\" + \"site\" + \".csv\"  \n",
    "updated_site.to_csv(new_site_path)"
   ]
  }
 ],
 "metadata": {
  "kernelspec": {
   "display_name": "Python 3",
   "language": "python",
   "name": "python3"
  },
  "language_info": {
   "codemirror_mode": {
    "name": "ipython",
    "version": 3
   },
   "file_extension": ".py",
   "mimetype": "text/x-python",
   "name": "python",
   "nbconvert_exporter": "python",
   "pygments_lexer": "ipython3",
   "version": "3.5.1"
  }
 },
 "nbformat": 4,
 "nbformat_minor": 0
}
