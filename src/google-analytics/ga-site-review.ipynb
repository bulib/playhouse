{
 "cells": [
  {
   "cell_type": "markdown",
   "metadata": {},
   "source": [
    "# Python script for harvesting Google Analytics for Data Management website\n",
    "\n",
    "This script harvests Google Analytics Data for the Data Management website for review [our data management website](http://www.bu.edu/datamanagement)\n",
    "\n",
    "## Important Resources\n",
    "\n",
    "This script uses [Stijn Debrouwere's](https://github.com/debrouwere) [Google Analytics Python library](https://github.com/debrouwere/google-analytics/). Be sure to checkout [his documentation.](https://github.com/debrouwere/google-analytics/wiki)\n"
   ]
  },
  {
   "cell_type": "code",
   "execution_count": 2,
   "metadata": {
    "collapsed": false
   },
   "outputs": [],
   "source": [
    "# import libraries\n",
    "import googleanalytics as ga\n",
    "import pandas as pd\n",
    "import matplotlib.pyplot as plt\n",
    "import time\n"
   ]
  },
  {
   "cell_type": "code",
   "execution_count": 52,
   "metadata": {
    "collapsed": true
   },
   "outputs": [],
   "source": [
    "# setup google analytics \n",
    "accounts = ga.authenticate(identity='Google Analtics API', interactive=True, save=True)\n",
    "profile = accounts[0].webproperties[0].profile"
   ]
  },
  {
   "cell_type": "code",
   "execution_count": 11,
   "metadata": {
    "collapsed": true
   },
   "outputs": [],
   "source": [
    "# our pages \n",
    "pages = [\"/datamanagement/\", \n",
    "         \"/datamanagement/background/\", \n",
    "         \"/datamanagement/background/whatisdata/\", \n",
    "         \"/datamanagement/background/importance/\",\n",
    "         \"/datamanagement/background/data-life-cycle/\",\n",
    "         \"/datamanagement/background/cite/\",\n",
    "         \"/datamanagement/background/relevant-background-reading/\",\n",
    "         \"/datamanagement/outline/\",\n",
    "         \"/datamanagement/outline/funding-agencies/\",\n",
    "         \"/datamanagement/outline/elements/\",\n",
    "         \"/datamanagement/outline/elements/organize/\",\n",
    "         \"/datamanagement/outline/elements/tracking-changes/\",\n",
    "         \"/datamanagement/outline/elements/storage/\",\n",
    "         \"/datamanagement/outline/elements/metadata/\",\n",
    "         \"/datamanagement/outline/elements/access/\",\n",
    "         \"/datamanagement/outline/elements/data-repositories/\",\n",
    "         \"/datamanagement/outline/building-a-data-curation-profile/\",\n",
    "         \"/datamanagement/outline/web-resources-and-tutorials/\",\n",
    "         \"/datamanagement/resources/\",\n",
    "         \"/datamanagement/resources/ist-services/\",\n",
    "         \"/datamanagement/resources/library-services/\",\n",
    "         \"/datamanagement/resources/archiving-services/\",\n",
    "         \"/datamanagement/resources/templates/\",\n",
    "         \"/datamanagement/resources/issp/\",\n",
    "         \"/datamanagement/resources/discipline-specific-data-management-articles/\",\n",
    "         \"/datamanagement/calendar/\",\n",
    "         \"/datamanagement/ask-a-question/\",\n",
    "         \"/datamanagement/research-data-management/\",\n",
    "        ]"
   ]
  },
  {
   "cell_type": "code",
   "execution_count": 12,
   "metadata": {
    "collapsed": true
   },
   "outputs": [],
   "source": [
    "# years we are interested in \n",
    "years = [\"2013\", \"2014\", \"2015\"]"
   ]
  },
  {
   "cell_type": "code",
   "execution_count": 13,
   "metadata": {
    "collapsed": true
   },
   "outputs": [],
   "source": [
    "# columns for our dataframes \n",
    "columns = [\"date\", \"pageviews\"]"
   ]
  },
  {
   "cell_type": "code",
   "execution_count": 239,
   "metadata": {
    "collapsed": false,
    "scrolled": true
   },
   "outputs": [
    {
     "name": "stdout",
     "output_type": "stream",
     "text": [
      "/datamanagement/ 2013 done!\n",
      "/datamanagement/ 2014 done!\n",
      "/datamanagement/ 2015 done!\n",
      "/datamanagement/background/ 2013 done!\n",
      "/datamanagement/background/ 2014 done!\n",
      "/datamanagement/background/ 2015 done!\n",
      "/datamanagement/background/whatisdata/ 2013 done!\n",
      "/datamanagement/background/whatisdata/ 2014 done!\n",
      "/datamanagement/background/whatisdata/ 2015 done!\n",
      "/datamanagement/background/importance/ 2013 done!\n",
      "/datamanagement/background/importance/ 2014 done!\n",
      "/datamanagement/background/importance/ 2015 done!\n",
      "/datamanagement/background/data-life-cycle/ 2013 done!\n",
      "/datamanagement/background/data-life-cycle/ 2014 done!\n",
      "/datamanagement/background/data-life-cycle/ 2015 done!\n",
      "/datamanagement/background/cite/ 2013 done!\n",
      "/datamanagement/background/cite/ 2014 done!\n",
      "/datamanagement/background/cite/ 2015 done!\n",
      "/datamanagement/background/relevant-background-reading/ 2013 done!\n",
      "/datamanagement/background/relevant-background-reading/ 2014 done!\n",
      "/datamanagement/background/relevant-background-reading/ 2015 done!\n",
      "/datamanagement/outline/ 2013 done!\n",
      "/datamanagement/outline/ 2014 done!\n",
      "/datamanagement/outline/ 2015 done!\n",
      "/datamanagement/outline/funding-agencies/ 2013 done!\n",
      "/datamanagement/outline/funding-agencies/ 2014 done!\n",
      "/datamanagement/outline/funding-agencies/ 2015 done!\n",
      "/datamanagement/outline/elements/ 2013 done!\n",
      "/datamanagement/outline/elements/ 2014 done!\n",
      "/datamanagement/outline/elements/ 2015 done!\n",
      "/datamanagement/outline/elements/organize/ 2013 done!\n",
      "/datamanagement/outline/elements/organize/ 2014 done!\n",
      "/datamanagement/outline/elements/organize/ 2015 done!\n",
      "/datamanagement/outline/elements/tracking-changes/ 2013 done!\n",
      "/datamanagement/outline/elements/tracking-changes/ 2014 done!\n",
      "/datamanagement/outline/elements/tracking-changes/ 2015 done!\n",
      "/datamanagement/outline/elements/storage/ 2013 done!\n",
      "/datamanagement/outline/elements/storage/ 2014 done!\n",
      "/datamanagement/outline/elements/storage/ 2015 done!\n",
      "/datamanagement/outline/elements/metadata/ 2013 done!\n",
      "/datamanagement/outline/elements/metadata/ 2014 done!\n",
      "/datamanagement/outline/elements/metadata/ 2015 done!\n",
      "/datamanagement/outline/elements/access/ 2013 done!\n",
      "/datamanagement/outline/elements/access/ 2014 done!\n",
      "/datamanagement/outline/elements/access/ 2015 done!\n",
      "/datamanagement/outline/elements/data-repositories/ 2013 done!\n",
      "/datamanagement/outline/elements/data-repositories/ 2014 done!\n",
      "/datamanagement/outline/elements/data-repositories/ 2015 done!\n",
      "/datamanagement/outline/building-a-data-curation-profile/ 2013 done!\n",
      "/datamanagement/outline/building-a-data-curation-profile/ 2014 done!\n",
      "/datamanagement/outline/building-a-data-curation-profile/ 2015 done!\n",
      "/datamanagement/outline/web-resources-and-tutorials/ 2013 done!\n",
      "/datamanagement/outline/web-resources-and-tutorials/ 2014 done!\n",
      "/datamanagement/outline/web-resources-and-tutorials/ 2015 done!\n",
      "/datamanagement/resources/ 2013 done!\n",
      "/datamanagement/resources/ 2014 done!\n",
      "/datamanagement/resources/ 2015 done!\n",
      "/datamanagement/resources/ist-services/ 2013 done!\n",
      "/datamanagement/resources/ist-services/ 2014 done!\n",
      "/datamanagement/resources/ist-services/ 2015 done!\n",
      "/datamanagement/resources/library-services/ 2013 done!\n",
      "/datamanagement/resources/library-services/ 2014 done!\n",
      "/datamanagement/resources/library-services/ 2015 done!\n",
      "/datamanagement/resources/archiving-services/ 2013 done!\n",
      "/datamanagement/resources/archiving-services/ 2014 done!\n",
      "/datamanagement/resources/archiving-services/ 2015 done!\n",
      "/datamanagement/resources/templates/ 2013 done!\n",
      "/datamanagement/resources/templates/ 2014 done!\n",
      "/datamanagement/resources/templates/ 2015 done!\n",
      "/datamanagement/resources/issp/ 2013 done!\n",
      "/datamanagement/resources/issp/ 2014 done!\n",
      "/datamanagement/resources/issp/ 2015 done!\n",
      "/datamanagement/resources/discipline-specific-data-management-articles/ 2013 done!\n",
      "/datamanagement/resources/discipline-specific-data-management-articles/ 2014 done!\n",
      "/datamanagement/resources/discipline-specific-data-management-articles/ 2015 done!\n",
      "/datamanagement/calendar/ 2013 done!\n",
      "/datamanagement/calendar/ 2014 done!\n",
      "/datamanagement/calendar/ 2015 done!\n",
      "/datamanagement/ask-a-question/ 2013 done!\n",
      "/datamanagement/ask-a-question/ 2014 done!\n",
      "/datamanagement/ask-a-question/ 2015 done!\n",
      "/datamanagement/research-data-management/ 2013 done!\n",
      "/datamanagement/research-data-management/ 2014 done!\n",
      "/datamanagement/research-data-management/ 2015 done!\n"
     ]
    }
   ],
   "source": [
    "#\n",
    "# Let's get our Google Analytics \n",
    "#\n",
    "\n",
    "#loop through pages\n",
    "for p in pages: # loop through pages\n",
    "    df_ = pd.DataFrame(columns=columns) # create data frame \n",
    "    url = p + \"index.html\" # create URL \n",
    "   \n",
    "    for y in years:\n",
    "        start = y + \"-01-01\"       \n",
    "        if y == \"2015\": # BU changed its google analytics reporting, after 2015-05-31, you no longer need index.html\n",
    "            end = y + \"-05-31\"\n",
    "        else:\n",
    "            end = y + \"-12-31\"\n",
    "        \n",
    "        \n",
    "        # run google analytics query and save as dataframe \n",
    "        p_df = profile.core.query.filter(pagepath__re=url).metrics(\"ga:pageviews\").daily(start, end).as_dataframe()\n",
    "\n",
    "        time.sleep(1) # take a 1 second break \n",
    "        \n",
    "        df_ = df_.append(p_df) # append to df_\n",
    "        \n",
    "        if y == \"2015\": # if year is 2015, also run a second query to get data from 2015-06-01 forward\n",
    "            p_df_2 = profile.core.query.filter(pagepath__eq=p).metrics(\"ga:pageviews\").daily(\"2015-06-01\", \"2015-11-30\").as_dataframe()\n",
    "            df_ = df_.append(p_df_2)\n",
    "        \n",
    "        print p + \" \" + y + \" done!\" #print which pages are done to help track progress \n",
    "    df_.to_csv(\"data-out/\" + p.replace(\"/\", \"\") + \".csv\") # save data as csv in data-out folder"
   ]
  },
  {
   "cell_type": "code",
   "execution_count": 17,
   "metadata": {
    "collapsed": false
   },
   "outputs": [
    {
     "name": "stdout",
     "output_type": "stream",
     "text": [
      "2013 done!\n",
      "2014 done!\n",
      "2015 done!\n"
     ]
    }
   ],
   "source": [
    "#\n",
    "# Grab site wide analytics\n",
    "#\n",
    "\n",
    "site_df = pd.DataFrame(columns=columns) # create data frame \n",
    "url = \"/datamanagement/\" # create URL \n",
    "\n",
    "for y in years:\n",
    "    start = y + \"-01-01\"       \n",
    "    if y == \"2015\": # BU changed its google analytics reporting, after 2015-05-31, you no longer need index.html\n",
    "        end = y + \"-05-31\"\n",
    "    else:\n",
    "        end = y + \"-12-31\"\n",
    "    \n",
    "    # run google analytics query and save as dataframe \n",
    "    site_ = profile.core.query.filter(pagepath__contains=url).metrics(\"ga:pageviews\").daily(start, end).as_dataframe()        \n",
    "    \n",
    "    time.sleep(1) # take a 1 second break \n",
    "\n",
    "    site_df = site_df.append(site_) # append to df_\n",
    "\n",
    "    if y == \"2015\": # if year is 2015, also run a second query to get data from 2015-06-01 forward\n",
    "        site_df_2 = profile.core.query.filter(pagepath__contains=url).metrics(\"ga:pageviews\").daily(\"2015-06-01\", \"2015-11-30\").as_dataframe()\n",
    "        site_df = site_df.append(site_df_2)\n",
    "\n",
    "    print y + \" done!\" #print which pages are done to help track progress \n",
    "    \n",
    "site_df.to_csv(\"data-out/site.csv\") # save data as csv in data-out folder\n"
   ]
  },
  {
   "cell_type": "markdown",
   "metadata": {},
   "source": [
    "# Testing \n",
    "\n",
    "Below this are some tests I have been running for gathering other information"
   ]
  },
  {
   "cell_type": "code",
   "execution_count": 56,
   "metadata": {
    "collapsed": false
   },
   "outputs": [],
   "source": [
    "#\n",
    "# Testing \n",
    "#\n",
    "\n",
    "t_q = profile.core.query.filter(pagepath__eq=\"/datamanagement/\").metrics(\"ga:bounceRate\", \"ga:entrances\", \"ga:exitRate\", \"ga:avgTimeOnPage\", \"ga:pageviews\").daily(\"2015-06-01\", \"2015-11-30\").as_dataframe()\n"
   ]
  },
  {
   "cell_type": "code",
   "execution_count": 54,
   "metadata": {
    "collapsed": false
   },
   "outputs": [
    {
     "data": {
      "text/html": [
       "<div>\n",
       "<table border=\"1\" class=\"dataframe\">\n",
       "  <thead>\n",
       "    <tr style=\"text-align: right;\">\n",
       "      <th></th>\n",
       "      <th>avg_time_on_page</th>\n",
       "      <th>bounce_rate</th>\n",
       "      <th>date</th>\n",
       "      <th>entrances</th>\n",
       "      <th>exit_rate</th>\n",
       "    </tr>\n",
       "  </thead>\n",
       "  <tbody>\n",
       "    <tr>\n",
       "      <th>0</th>\n",
       "      <td>0.000000</td>\n",
       "      <td>100</td>\n",
       "      <td>2015-06-01</td>\n",
       "      <td>2</td>\n",
       "      <td>100.000000</td>\n",
       "    </tr>\n",
       "    <tr>\n",
       "      <th>1</th>\n",
       "      <td>0.000000</td>\n",
       "      <td>0</td>\n",
       "      <td>2015-06-02</td>\n",
       "      <td>0</td>\n",
       "      <td>0.000000</td>\n",
       "    </tr>\n",
       "    <tr>\n",
       "      <th>2</th>\n",
       "      <td>0.000000</td>\n",
       "      <td>100</td>\n",
       "      <td>2015-06-03</td>\n",
       "      <td>1</td>\n",
       "      <td>100.000000</td>\n",
       "    </tr>\n",
       "    <tr>\n",
       "      <th>3</th>\n",
       "      <td>24.000000</td>\n",
       "      <td>0</td>\n",
       "      <td>2015-06-04</td>\n",
       "      <td>1</td>\n",
       "      <td>0.000000</td>\n",
       "    </tr>\n",
       "    <tr>\n",
       "      <th>4</th>\n",
       "      <td>152.333333</td>\n",
       "      <td>50</td>\n",
       "      <td>2015-06-05</td>\n",
       "      <td>4</td>\n",
       "      <td>33.333333</td>\n",
       "    </tr>\n",
       "  </tbody>\n",
       "</table>\n",
       "</div>"
      ],
      "text/plain": [
       "   avg_time_on_page  bounce_rate        date  entrances   exit_rate\n",
       "0          0.000000          100  2015-06-01          2  100.000000\n",
       "1          0.000000            0  2015-06-02          0    0.000000\n",
       "2          0.000000          100  2015-06-03          1  100.000000\n",
       "3         24.000000            0  2015-06-04          1    0.000000\n",
       "4        152.333333           50  2015-06-05          4   33.333333"
      ]
     },
     "execution_count": 54,
     "metadata": {},
     "output_type": "execute_result"
    }
   ],
   "source": [
    "t_q.head()"
   ]
  },
  {
   "cell_type": "code",
   "execution_count": 45,
   "metadata": {
    "collapsed": true
   },
   "outputs": [],
   "source": [
    "t_q[\"avg_time_on_page_min\"] = t_q[\"avg_time_on_page\"]/60"
   ]
  },
  {
   "cell_type": "code",
   "execution_count": 57,
   "metadata": {
    "collapsed": false
   },
   "outputs": [],
   "source": [
    "t_q.head()\n",
    "t_q.to_csv(\"t_q.csv\")"
   ]
  }
 ],
 "metadata": {
  "kernelspec": {
   "display_name": "Python 3",
   "language": "python",
   "name": "python3"
  },
  "language_info": {
   "codemirror_mode": {
    "name": "ipython",
    "version": 3
   },
   "file_extension": ".py",
   "mimetype": "text/x-python",
   "name": "python",
   "nbconvert_exporter": "python",
   "pygments_lexer": "ipython3",
   "version": "3.5.1"
  }
 },
 "nbformat": 4,
 "nbformat_minor": 0
}
